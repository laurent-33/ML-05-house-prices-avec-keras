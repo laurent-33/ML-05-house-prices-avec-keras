{
 "cells": [
  {
   "cell_type": "markdown",
   "metadata": {
    "slideshow": {
     "slide_type": "slide"
    }
   },
   "source": [
    "# Linear Regression on House Prices (1D) with Keras\n",
    "\n",
    "All Rights Reserved © <a href=\"http://www.louisdorard.com\">Louis Dorard</a>\n",
    "\n",
    "<img src=\"http://s3.louisdorard.com.s3.amazonaws.com/DL_icon.png\">"
   ]
  },
  {
   "cell_type": "markdown",
   "metadata": {
    "slideshow": {
     "slide_type": "notes"
    }
   },
   "source": [
    "In this notebook we show how to perform linear regression on house prices data, using Keras."
   ]
  },
  {
   "cell_type": "markdown",
   "metadata": {
    "slideshow": {
     "slide_type": "slide"
    }
   },
   "source": [
    "## Define `X_train` and `y_train`\n",
    "\n",
    "Run [House Prices 1D](House-Prices-1D.ipynb) notebook to create `data`"
   ]
  },
  {
   "cell_type": "code",
   "execution_count": 185,
   "metadata": {},
   "outputs": [],
   "source": [
    "#%run House-Prices-1D.ipynb"
   ]
  },
  {
   "cell_type": "code",
   "execution_count": 186,
   "metadata": {},
   "outputs": [],
   "source": [
    "from pandas import read_csv\n",
    "data = read_csv('../04-house-prices/origin-trainfull.csv')"
   ]
  },
  {
   "cell_type": "code",
   "execution_count": 187,
   "metadata": {
    "slideshow": {
     "slide_type": "fragment"
    }
   },
   "outputs": [],
   "source": [
    "y_train = data.SalePrice.values.astype(float)"
   ]
  },
  {
   "cell_type": "code",
   "execution_count": 188,
   "metadata": {},
   "outputs": [
    {
     "data": {
      "text/plain": [
       "(1460,)"
      ]
     },
     "execution_count": 188,
     "metadata": {},
     "output_type": "execute_result"
    }
   ],
   "source": [
    "y_train.shape"
   ]
  },
  {
   "cell_type": "code",
   "execution_count": 189,
   "metadata": {},
   "outputs": [],
   "source": [
    "from numpy import transpose\n",
    "y_train = transpose([y_train])"
   ]
  },
  {
   "cell_type": "code",
   "execution_count": 190,
   "metadata": {},
   "outputs": [
    {
     "data": {
      "text/plain": [
       "(1460, 1)"
      ]
     },
     "execution_count": 190,
     "metadata": {},
     "output_type": "execute_result"
    }
   ],
   "source": [
    "y_train.shape"
   ]
  },
  {
   "cell_type": "code",
   "execution_count": 191,
   "metadata": {},
   "outputs": [],
   "source": [
    "X_train = transpose([data.GrLivArea.values.astype(float)])"
   ]
  },
  {
   "cell_type": "code",
   "execution_count": 192,
   "metadata": {},
   "outputs": [
    {
     "data": {
      "text/plain": [
       "(1460, 1)"
      ]
     },
     "execution_count": 192,
     "metadata": {},
     "output_type": "execute_result"
    }
   ],
   "source": [
    "X_train.shape"
   ]
  },
  {
   "cell_type": "markdown",
   "metadata": {
    "slideshow": {
     "slide_type": "slide"
    }
   },
   "source": [
    "## Visualize data in 2D\n",
    "\n",
    "Initialize plotting lib"
   ]
  },
  {
   "cell_type": "code",
   "execution_count": 193,
   "metadata": {
    "slideshow": {
     "slide_type": "-"
    }
   },
   "outputs": [],
   "source": [
    "import matplotlib.pyplot as plt\n",
    "%matplotlib inline\n",
    "plt.style.use('dark_background')"
   ]
  },
  {
   "cell_type": "markdown",
   "metadata": {
    "slideshow": {
     "slide_type": "fragment"
    }
   },
   "source": [
    "The idea here is to find a line that \"fits\" the data."
   ]
  },
  {
   "cell_type": "markdown",
   "metadata": {
    "slideshow": {
     "slide_type": "slide"
    }
   },
   "source": [
    "## About Keras\n",
    "\n",
    "* High-level API: describe NN structure in simple and convenient way\n",
    "* Exists in TensorFlow, and outside (can use other libraries such as MXNet as numerical backend)"
   ]
  },
  {
   "cell_type": "markdown",
   "metadata": {
    "slideshow": {
     "slide_type": "slide"
    }
   },
   "source": [
    "## Model relationship between `x` and  `y`\n",
    "\n",
    "We're looking for `W` and `b` such that <!-- .element: class=\"fragment\" -->\n",
    "\n",
    "`x * W + b` is a good approximation of `y` <!-- .element: class=\"fragment\" -->\n",
    "\n",
    "for all `(x, y)` input-output pairs in training. <!-- .element: class=\"fragment\" -->"
   ]
  },
  {
   "cell_type": "markdown",
   "metadata": {
    "slideshow": {
     "slide_type": "slide"
    }
   },
   "source": [
    "Main model type in Keras is sequence of \"layers\", called `Sequential`. In our case:\n",
    "\n",
    "* 1 input layer (for `x`)\n",
    "* 1 hidden layer (x length)\n",
    "* 1 output layer (for `y`)"
   ]
  },
  {
   "cell_type": "code",
   "execution_count": 194,
   "metadata": {
    "slideshow": {
     "slide_type": "fragment"
    }
   },
   "outputs": [],
   "source": [
    "from tensorflow.keras.models import Sequential\n",
    "from tensorflow.keras.layers import Input\n",
    "from tensorflow.keras.layers import Dense, Activation"
   ]
  },
  {
   "cell_type": "code",
   "execution_count": 195,
   "metadata": {},
   "outputs": [],
   "source": [
    "model = Sequential([\n",
    "    Input(shape=X_train.shape[1:]),\n",
    "    Dense(10, activation = 'relu'),\n",
    "    Dense(10, activation = 'relu'),\n",
    "    Dense(5, activation = 'relu'),\n",
    "    Dense(1)\n",
    "])"
   ]
  },
  {
   "cell_type": "markdown",
   "metadata": {
    "slideshow": {
     "slide_type": "slide"
    }
   },
   "source": [
    "## Choose \"loss\" to minimize\n",
    "\n",
    "* Error = difference between prediction `x * W + b` and true output `y`\n",
    "* Compute Mean Squared Error over whole dataset\n",
    "* MSE is a \"loss function\"; the smaller, the better\n",
    "* Loss value depends on `W`, `b`, and dataset\n",
    "    * => We want values of `W` and `b` that minimize loss on given training set."
   ]
  },
  {
   "cell_type": "code",
   "execution_count": 196,
   "metadata": {},
   "outputs": [],
   "source": [
    "loss = 'mse'"
   ]
  },
  {
   "cell_type": "markdown",
   "metadata": {
    "slideshow": {
     "slide_type": "slide"
    }
   },
   "source": [
    "## Set up optimizer and \"compile\" model\n",
    "\n",
    "Idea: iterative way to find lowest point of mountain, blindfolded?\n",
    "\n",
    "* “What is the direction of steepest descent under my feet?” => _gradient_\n",
    "* Follow gradient by a certain step size, called _learning step_ (or _learning rate_ ).\n",
    "    \n",
    "This is called _(Stochastic) Gradient Descent_."
   ]
  },
  {
   "cell_type": "markdown",
   "metadata": {
    "slideshow": {
     "slide_type": "slide"
    }
   },
   "source": [
    "![Gradient Descent - Aurélien Géron](figures/GD-Geron.png)"
   ]
  },
  {
   "cell_type": "markdown",
   "metadata": {
    "slideshow": {
     "slide_type": "notes"
    }
   },
   "source": [
    "(See Figure 4-3 in _Hands-on ML_ book by Aurélien Géron)"
   ]
  },
  {
   "cell_type": "markdown",
   "metadata": {
    "slideshow": {
     "slide_type": "slide"
    }
   },
   "source": [
    "In Keras, optimizer is specified when \"compiling\" model.\n",
    "\n",
    "(Last step to fix model training code!)"
   ]
  },
  {
   "cell_type": "code",
   "execution_count": 197,
   "metadata": {
    "slideshow": {
     "slide_type": "-"
    }
   },
   "outputs": [],
   "source": [
    "from tensorflow.keras.optimizers import SGD\n",
    "LEARNING_RATE = 0.05\n",
    "model.compile(loss=loss, optimizer=SGD(lr=LEARNING_RATE))"
   ]
  },
  {
   "cell_type": "markdown",
   "metadata": {
    "slideshow": {
     "slide_type": "slide"
    }
   },
   "source": [
    "Remarks:\n",
    "\n",
    "* Procedure starts from random value => need to consider random number generator seed!\n",
    "* Figure is in 1D, but 2 Dimensions when going down a mountain...\n",
    "* Our linear regression problem is in 2D, because 2 parameters to learn (`W` and `b`)\n",
    "* Benefits of \"compiling\" to be discussed in future notebook."
   ]
  },
  {
   "cell_type": "markdown",
   "metadata": {
    "slideshow": {
     "slide_type": "slide"
    }
   },
   "source": [
    "### Scale features\n",
    "\n",
    "\"Normalizing\" the data should help prevent values from \"exploding\":"
   ]
  },
  {
   "cell_type": "code",
   "execution_count": 198,
   "metadata": {},
   "outputs": [],
   "source": [
    "from sklearn.preprocessing import StandardScaler\n",
    "scaler = StandardScaler()\n",
    "scaler.fit(X_train)\n",
    "X_train = scaler.transform(X_train)"
   ]
  },
  {
   "cell_type": "code",
   "execution_count": 199,
   "metadata": {},
   "outputs": [],
   "source": [
    "yscaler = StandardScaler()\n",
    "y_train_scaled = yscaler.fit_transform(y_train)"
   ]
  },
  {
   "cell_type": "markdown",
   "metadata": {
    "slideshow": {
     "slide_type": "slide"
    }
   },
   "source": [
    "## Fit model (i.e. run optimization)\n",
    "\n",
    "The model still hasn't \"seen\" any data yet...\n",
    "\n",
    "* With SGD we can choose the amount of data to be used to compute the loss function (`BATCH_SIZE`). This can be useful when the whole dataset doesn't fit in memory. We'll revisit this later!\n",
    "* We need to choose for how many iterations to run SGD (`EPOCHS`).\n",
    "* The `fit` method is a loop over epochs and batches!"
   ]
  },
  {
   "cell_type": "code",
   "execution_count": 200,
   "metadata": {},
   "outputs": [
    {
     "name": "stdout",
     "output_type": "stream",
     "text": [
      "Train on 1460 samples\n",
      "Epoch 1/200\n",
      "1460/1460 [==============================] - 0s 208us/sample - loss: 1.0228\n",
      "Epoch 2/200\n",
      "1460/1460 [==============================] - 0s 2us/sample - loss: 0.9110\n",
      "Epoch 3/200\n",
      "1460/1460 [==============================] - 0s 1us/sample - loss: 0.8418\n",
      "Epoch 4/200\n",
      "1460/1460 [==============================] - 0s 4us/sample - loss: 0.7926\n",
      "Epoch 5/200\n",
      "1460/1460 [==============================] - 0s 3us/sample - loss: 0.7565\n",
      "Epoch 6/200\n",
      "1460/1460 [==============================] - 0s 7us/sample - loss: 0.7286\n",
      "Epoch 7/200\n",
      "1460/1460 [==============================] - 0s 3us/sample - loss: 0.7065\n",
      "Epoch 8/200\n",
      "1460/1460 [==============================] - 0s 3us/sample - loss: 0.6876\n",
      "Epoch 9/200\n",
      "1460/1460 [==============================] - 0s 6us/sample - loss: 0.6712\n",
      "Epoch 10/200\n",
      "1460/1460 [==============================] - 0s 3us/sample - loss: 0.6569\n",
      "Epoch 11/200\n",
      "1460/1460 [==============================] - 0s 2us/sample - loss: 0.6445\n",
      "Epoch 12/200\n",
      "1460/1460 [==============================] - 0s 2us/sample - loss: 0.6339\n",
      "Epoch 13/200\n",
      "1460/1460 [==============================] - 0s 3us/sample - loss: 0.6246\n",
      "Epoch 14/200\n",
      "1460/1460 [==============================] - 0s 3us/sample - loss: 0.6164\n",
      "Epoch 15/200\n",
      "1460/1460 [==============================] - 0s 3us/sample - loss: 0.6092\n",
      "Epoch 16/200\n",
      "1460/1460 [==============================] - 0s 3us/sample - loss: 0.6029\n",
      "Epoch 17/200\n",
      "1460/1460 [==============================] - 0s 2us/sample - loss: 0.5973\n",
      "Epoch 18/200\n",
      "1460/1460 [==============================] - 0s 3us/sample - loss: 0.5923\n",
      "Epoch 19/200\n",
      "1460/1460 [==============================] - 0s 4us/sample - loss: 0.5877\n",
      "Epoch 20/200\n",
      "1460/1460 [==============================] - 0s 4us/sample - loss: 0.5836\n",
      "Epoch 21/200\n",
      "1460/1460 [==============================] - 0s 2us/sample - loss: 0.5798\n",
      "Epoch 22/200\n",
      "1460/1460 [==============================] - 0s 2us/sample - loss: 0.5763\n",
      "Epoch 23/200\n",
      "1460/1460 [==============================] - 0s 6us/sample - loss: 0.5731\n",
      "Epoch 24/200\n",
      "1460/1460 [==============================] - 0s 5us/sample - loss: 0.5702\n",
      "Epoch 25/200\n",
      "1460/1460 [==============================] - 0s 3us/sample - loss: 0.5674\n",
      "Epoch 26/200\n",
      "1460/1460 [==============================] - 0s 4us/sample - loss: 0.5649\n",
      "Epoch 27/200\n",
      "1460/1460 [==============================] - 0s 2us/sample - loss: 0.5625\n",
      "Epoch 28/200\n",
      "1460/1460 [==============================] - 0s 6us/sample - loss: 0.5603\n",
      "Epoch 29/200\n",
      "1460/1460 [==============================] - 0s 3us/sample - loss: 0.5582\n",
      "Epoch 30/200\n",
      "1460/1460 [==============================] - 0s 3us/sample - loss: 0.5563\n",
      "Epoch 31/200\n",
      "1460/1460 [==============================] - 0s 4us/sample - loss: 0.5544\n",
      "Epoch 32/200\n",
      "1460/1460 [==============================] - 0s 4us/sample - loss: 0.5527\n",
      "Epoch 33/200\n",
      "1460/1460 [==============================] - 0s 4us/sample - loss: 0.5510\n",
      "Epoch 34/200\n",
      "1460/1460 [==============================] - 0s 6us/sample - loss: 0.5494\n",
      "Epoch 35/200\n",
      "1460/1460 [==============================] - 0s 2us/sample - loss: 0.5478\n",
      "Epoch 36/200\n",
      "1460/1460 [==============================] - 0s 3us/sample - loss: 0.5463\n",
      "Epoch 37/200\n",
      "1460/1460 [==============================] - 0s 2us/sample - loss: 0.5449\n",
      "Epoch 38/200\n",
      "1460/1460 [==============================] - 0s 3us/sample - loss: 0.5436\n",
      "Epoch 39/200\n",
      "1460/1460 [==============================] - 0s 5us/sample - loss: 0.5423\n",
      "Epoch 40/200\n",
      "1460/1460 [==============================] - 0s 8us/sample - loss: 0.5411\n",
      "Epoch 41/200\n",
      "1460/1460 [==============================] - 0s 5us/sample - loss: 0.5399\n",
      "Epoch 42/200\n",
      "1460/1460 [==============================] - 0s 6us/sample - loss: 0.5387\n",
      "Epoch 43/200\n",
      "1460/1460 [==============================] - 0s 4us/sample - loss: 0.5376\n",
      "Epoch 44/200\n",
      "1460/1460 [==============================] - 0s 6us/sample - loss: 0.5365\n",
      "Epoch 45/200\n",
      "1460/1460 [==============================] - 0s 7us/sample - loss: 0.5354\n",
      "Epoch 46/200\n",
      "1460/1460 [==============================] - 0s 4us/sample - loss: 0.5343\n",
      "Epoch 47/200\n",
      "1460/1460 [==============================] - 0s 8us/sample - loss: 0.5333\n",
      "Epoch 48/200\n",
      "1460/1460 [==============================] - 0s 2us/sample - loss: 0.5323\n",
      "Epoch 49/200\n",
      "1460/1460 [==============================] - 0s 4us/sample - loss: 0.5313\n",
      "Epoch 50/200\n",
      "1460/1460 [==============================] - 0s 3us/sample - loss: 0.5304\n",
      "Epoch 51/200\n",
      "1460/1460 [==============================] - 0s 6us/sample - loss: 0.5295\n",
      "Epoch 52/200\n",
      "1460/1460 [==============================] - 0s 2us/sample - loss: 0.5287\n",
      "Epoch 53/200\n",
      "1460/1460 [==============================] - 0s 5us/sample - loss: 0.5279\n",
      "Epoch 54/200\n",
      "1460/1460 [==============================] - 0s 5us/sample - loss: 0.5271\n",
      "Epoch 55/200\n",
      "1460/1460 [==============================] - 0s 7us/sample - loss: 0.5264\n",
      "Epoch 56/200\n",
      "1460/1460 [==============================] - 0s 6us/sample - loss: 0.5256\n",
      "Epoch 57/200\n",
      "1460/1460 [==============================] - 0s 4us/sample - loss: 0.5250\n",
      "Epoch 58/200\n",
      "1460/1460 [==============================] - 0s 5us/sample - loss: 0.5243\n",
      "Epoch 59/200\n",
      "1460/1460 [==============================] - 0s 5us/sample - loss: 0.5237\n",
      "Epoch 60/200\n",
      "1460/1460 [==============================] - 0s 5us/sample - loss: 0.5231\n",
      "Epoch 61/200\n",
      "1460/1460 [==============================] - 0s 4us/sample - loss: 0.5225\n",
      "Epoch 62/200\n",
      "1460/1460 [==============================] - 0s 4us/sample - loss: 0.5219\n",
      "Epoch 63/200\n",
      "1460/1460 [==============================] - 0s 4us/sample - loss: 0.5213\n",
      "Epoch 64/200\n",
      "1460/1460 [==============================] - 0s 4us/sample - loss: 0.5208\n",
      "Epoch 65/200\n",
      "1460/1460 [==============================] - 0s 10us/sample - loss: 0.5203\n",
      "Epoch 66/200\n",
      "1460/1460 [==============================] - 0s 5us/sample - loss: 0.5198\n",
      "Epoch 67/200\n",
      "1460/1460 [==============================] - 0s 3us/sample - loss: 0.5193\n",
      "Epoch 68/200\n",
      "1460/1460 [==============================] - 0s 5us/sample - loss: 0.5188\n",
      "Epoch 69/200\n",
      "1460/1460 [==============================] - 0s 7us/sample - loss: 0.5183\n",
      "Epoch 70/200\n",
      "1460/1460 [==============================] - 0s 8us/sample - loss: 0.5179\n",
      "Epoch 71/200\n",
      "1460/1460 [==============================] - 0s 3us/sample - loss: 0.5175\n",
      "Epoch 72/200\n",
      "1460/1460 [==============================] - 0s 2us/sample - loss: 0.5170\n",
      "Epoch 73/200\n",
      "1460/1460 [==============================] - 0s 2us/sample - loss: 0.5166\n",
      "Epoch 74/200\n",
      "1460/1460 [==============================] - 0s 3us/sample - loss: 0.5162\n",
      "Epoch 75/200\n",
      "1460/1460 [==============================] - 0s 2us/sample - loss: 0.5159\n",
      "Epoch 76/200\n",
      "1460/1460 [==============================] - 0s 4us/sample - loss: 0.5155\n",
      "Epoch 77/200\n",
      "1460/1460 [==============================] - 0s 4us/sample - loss: 0.5151\n",
      "Epoch 78/200\n",
      "1460/1460 [==============================] - 0s 2us/sample - loss: 0.5147\n",
      "Epoch 79/200\n",
      "1460/1460 [==============================] - 0s 2us/sample - loss: 0.5144\n",
      "Epoch 80/200\n",
      "1460/1460 [==============================] - 0s 4us/sample - loss: 0.5140\n",
      "Epoch 81/200\n",
      "1460/1460 [==============================] - 0s 2us/sample - loss: 0.5137\n",
      "Epoch 82/200\n",
      "1460/1460 [==============================] - 0s 5us/sample - loss: 0.5134\n",
      "Epoch 83/200\n",
      "1460/1460 [==============================] - 0s 2us/sample - loss: 0.5131\n",
      "Epoch 84/200\n",
      "1460/1460 [==============================] - 0s 3us/sample - loss: 0.5127\n",
      "Epoch 85/200\n",
      "1460/1460 [==============================] - 0s 4us/sample - loss: 0.5124\n",
      "Epoch 86/200\n",
      "1460/1460 [==============================] - 0s 3us/sample - loss: 0.5121\n",
      "Epoch 87/200\n",
      "1460/1460 [==============================] - 0s 2us/sample - loss: 0.5119\n",
      "Epoch 88/200\n",
      "1460/1460 [==============================] - 0s 5us/sample - loss: 0.5116\n",
      "Epoch 89/200\n",
      "1460/1460 [==============================] - 0s 3us/sample - loss: 0.5113\n",
      "Epoch 90/200\n",
      "1460/1460 [==============================] - 0s 2us/sample - loss: 0.5111\n",
      "Epoch 91/200\n",
      "1460/1460 [==============================] - 0s 3us/sample - loss: 0.5108\n",
      "Epoch 92/200\n",
      "1460/1460 [==============================] - 0s 4us/sample - loss: 0.5106\n",
      "Epoch 93/200\n",
      "1460/1460 [==============================] - 0s 4us/sample - loss: 0.5103\n",
      "Epoch 94/200\n",
      "1460/1460 [==============================] - 0s 3us/sample - loss: 0.5101\n"
     ]
    },
    {
     "name": "stdout",
     "output_type": "stream",
     "text": [
      "Epoch 95/200\n",
      "1460/1460 [==============================] - 0s 3us/sample - loss: 0.5098\n",
      "Epoch 96/200\n",
      "1460/1460 [==============================] - 0s 2us/sample - loss: 0.5096\n",
      "Epoch 97/200\n",
      "1460/1460 [==============================] - 0s 2us/sample - loss: 0.5094\n",
      "Epoch 98/200\n",
      "1460/1460 [==============================] - 0s 5us/sample - loss: 0.5092\n",
      "Epoch 99/200\n",
      "1460/1460 [==============================] - 0s 3us/sample - loss: 0.5090\n",
      "Epoch 100/200\n",
      "1460/1460 [==============================] - 0s 3us/sample - loss: 0.5088\n",
      "Epoch 101/200\n",
      "1460/1460 [==============================] - 0s 2us/sample - loss: 0.5086\n",
      "Epoch 102/200\n",
      "1460/1460 [==============================] - 0s 2us/sample - loss: 0.5084\n",
      "Epoch 103/200\n",
      "1460/1460 [==============================] - 0s 5us/sample - loss: 0.5082\n",
      "Epoch 104/200\n",
      "1460/1460 [==============================] - 0s 3us/sample - loss: 0.5080\n",
      "Epoch 105/200\n",
      "1460/1460 [==============================] - 0s 5us/sample - loss: 0.5078\n",
      "Epoch 106/200\n",
      "1460/1460 [==============================] - 0s 2us/sample - loss: 0.5076\n",
      "Epoch 107/200\n",
      "1460/1460 [==============================] - 0s 3us/sample - loss: 0.5075\n",
      "Epoch 108/200\n",
      "1460/1460 [==============================] - 0s 3us/sample - loss: 0.5073\n",
      "Epoch 109/200\n",
      "1460/1460 [==============================] - 0s 2us/sample - loss: 0.5071\n",
      "Epoch 110/200\n",
      "1460/1460 [==============================] - 0s 4us/sample - loss: 0.5070\n",
      "Epoch 111/200\n",
      "1460/1460 [==============================] - 0s 2us/sample - loss: 0.5068\n",
      "Epoch 112/200\n",
      "1460/1460 [==============================] - 0s 2us/sample - loss: 0.5066\n",
      "Epoch 113/200\n",
      "1460/1460 [==============================] - 0s 5us/sample - loss: 0.5065\n",
      "Epoch 114/200\n",
      "1460/1460 [==============================] - 0s 3us/sample - loss: 0.5064\n",
      "Epoch 115/200\n",
      "1460/1460 [==============================] - 0s 4us/sample - loss: 0.5062\n",
      "Epoch 116/200\n",
      "1460/1460 [==============================] - 0s 2us/sample - loss: 0.5061\n",
      "Epoch 117/200\n",
      "1460/1460 [==============================] - 0s 2us/sample - loss: 0.5059\n",
      "Epoch 118/200\n",
      "1460/1460 [==============================] - 0s 3us/sample - loss: 0.5058\n",
      "Epoch 119/200\n",
      "1460/1460 [==============================] - 0s 3us/sample - loss: 0.5056\n",
      "Epoch 120/200\n",
      "1460/1460 [==============================] - 0s 3us/sample - loss: 0.5055\n",
      "Epoch 121/200\n",
      "1460/1460 [==============================] - 0s 3us/sample - loss: 0.5054\n",
      "Epoch 122/200\n",
      "1460/1460 [==============================] - 0s 2us/sample - loss: 0.5053\n",
      "Epoch 123/200\n",
      "1460/1460 [==============================] - 0s 2us/sample - loss: 0.5051\n",
      "Epoch 124/200\n",
      "1460/1460 [==============================] - 0s 5us/sample - loss: 0.5050\n",
      "Epoch 125/200\n",
      "1460/1460 [==============================] - 0s 2us/sample - loss: 0.5049\n",
      "Epoch 126/200\n",
      "1460/1460 [==============================] - 0s 2us/sample - loss: 0.5048\n",
      "Epoch 127/200\n",
      "1460/1460 [==============================] - 0s 4us/sample - loss: 0.5047\n",
      "Epoch 128/200\n",
      "1460/1460 [==============================] - 0s 2us/sample - loss: 0.5045\n",
      "Epoch 129/200\n",
      "1460/1460 [==============================] - 0s 3us/sample - loss: 0.5044\n",
      "Epoch 130/200\n",
      "1460/1460 [==============================] - 0s 2us/sample - loss: 0.5043\n",
      "Epoch 131/200\n",
      "1460/1460 [==============================] - 0s 2us/sample - loss: 0.5042\n",
      "Epoch 132/200\n",
      "1460/1460 [==============================] - 0s 3us/sample - loss: 0.5041\n",
      "Epoch 133/200\n",
      "1460/1460 [==============================] - 0s 3us/sample - loss: 0.5040\n",
      "Epoch 134/200\n",
      "1460/1460 [==============================] - 0s 2us/sample - loss: 0.5039\n",
      "Epoch 135/200\n",
      "1460/1460 [==============================] - 0s 2us/sample - loss: 0.5038\n",
      "Epoch 136/200\n",
      "1460/1460 [==============================] - 0s 3us/sample - loss: 0.5038\n",
      "Epoch 137/200\n",
      "1460/1460 [==============================] - 0s 2us/sample - loss: 0.5037\n",
      "Epoch 138/200\n",
      "1460/1460 [==============================] - 0s 2us/sample - loss: 0.5036\n",
      "Epoch 139/200\n",
      "1460/1460 [==============================] - 0s 4us/sample - loss: 0.5035\n",
      "Epoch 140/200\n",
      "1460/1460 [==============================] - 0s 2us/sample - loss: 0.5034\n",
      "Epoch 141/200\n",
      "1460/1460 [==============================] - 0s 2us/sample - loss: 0.5033\n",
      "Epoch 142/200\n",
      "1460/1460 [==============================] - 0s 3us/sample - loss: 0.5032\n",
      "Epoch 143/200\n",
      "1460/1460 [==============================] - 0s 3us/sample - loss: 0.5032\n",
      "Epoch 144/200\n",
      "1460/1460 [==============================] - 0s 2us/sample - loss: 0.5031\n",
      "Epoch 145/200\n",
      "1460/1460 [==============================] - 0s 2us/sample - loss: 0.5030\n",
      "Epoch 146/200\n",
      "1460/1460 [==============================] - 0s 2us/sample - loss: 0.5029\n",
      "Epoch 147/200\n",
      "1460/1460 [==============================] - 0s 2us/sample - loss: 0.5029\n",
      "Epoch 148/200\n",
      "1460/1460 [==============================] - 0s 2us/sample - loss: 0.5028\n",
      "Epoch 149/200\n",
      "1460/1460 [==============================] - 0s 1us/sample - loss: 0.5027\n",
      "Epoch 150/200\n",
      "1460/1460 [==============================] - 0s 2us/sample - loss: 0.5026\n",
      "Epoch 151/200\n",
      "1460/1460 [==============================] - 0s 2us/sample - loss: 0.5026\n",
      "Epoch 152/200\n",
      "1460/1460 [==============================] - 0s 2us/sample - loss: 0.5025\n",
      "Epoch 153/200\n",
      "1460/1460 [==============================] - 0s 2us/sample - loss: 0.5024\n",
      "Epoch 154/200\n",
      "1460/1460 [==============================] - 0s 2us/sample - loss: 0.5023\n",
      "Epoch 155/200\n",
      "1460/1460 [==============================] - 0s 2us/sample - loss: 0.5023\n",
      "Epoch 156/200\n",
      "1460/1460 [==============================] - 0s 3us/sample - loss: 0.5022\n",
      "Epoch 157/200\n",
      "1460/1460 [==============================] - 0s 2us/sample - loss: 0.5022\n",
      "Epoch 158/200\n",
      "1460/1460 [==============================] - 0s 2us/sample - loss: 0.5021\n",
      "Epoch 159/200\n",
      "1460/1460 [==============================] - 0s 2us/sample - loss: 0.5020\n",
      "Epoch 160/200\n",
      "1460/1460 [==============================] - 0s 3us/sample - loss: 0.5020\n",
      "Epoch 161/200\n",
      "1460/1460 [==============================] - 0s 2us/sample - loss: 0.5019\n",
      "Epoch 162/200\n",
      "1460/1460 [==============================] - 0s 2us/sample - loss: 0.5018\n",
      "Epoch 163/200\n",
      "1460/1460 [==============================] - 0s 3us/sample - loss: 0.5018\n",
      "Epoch 164/200\n",
      "1460/1460 [==============================] - 0s 2us/sample - loss: 0.5017\n",
      "Epoch 165/200\n",
      "1460/1460 [==============================] - 0s 14us/sample - loss: 0.5017\n",
      "Epoch 166/200\n",
      "1460/1460 [==============================] - 0s 2us/sample - loss: 0.5016\n",
      "Epoch 167/200\n",
      "1460/1460 [==============================] - 0s 4us/sample - loss: 0.5016\n",
      "Epoch 168/200\n",
      "1460/1460 [==============================] - 0s 4us/sample - loss: 0.5015\n",
      "Epoch 169/200\n",
      "1460/1460 [==============================] - 0s 2us/sample - loss: 0.5015\n",
      "Epoch 170/200\n",
      "1460/1460 [==============================] - 0s 2us/sample - loss: 0.5014\n",
      "Epoch 171/200\n",
      "1460/1460 [==============================] - 0s 2us/sample - loss: 0.5014\n",
      "Epoch 172/200\n",
      "1460/1460 [==============================] - 0s 3us/sample - loss: 0.5013\n",
      "Epoch 173/200\n",
      "1460/1460 [==============================] - 0s 3us/sample - loss: 0.5013\n",
      "Epoch 174/200\n",
      "1460/1460 [==============================] - 0s 4us/sample - loss: 0.5012\n",
      "Epoch 175/200\n",
      "1460/1460 [==============================] - 0s 6us/sample - loss: 0.5012\n",
      "Epoch 176/200\n",
      "1460/1460 [==============================] - 0s 5us/sample - loss: 0.5011\n",
      "Epoch 177/200\n",
      "1460/1460 [==============================] - 0s 2us/sample - loss: 0.5011\n",
      "Epoch 178/200\n",
      "1460/1460 [==============================] - 0s 2us/sample - loss: 0.5011\n",
      "Epoch 179/200\n",
      "1460/1460 [==============================] - 0s 4us/sample - loss: 0.5010\n",
      "Epoch 180/200\n",
      "1460/1460 [==============================] - 0s 2us/sample - loss: 0.5010\n",
      "Epoch 181/200\n",
      "1460/1460 [==============================] - 0s 3us/sample - loss: 0.5009\n",
      "Epoch 182/200\n",
      "1460/1460 [==============================] - 0s 3us/sample - loss: 0.5009\n",
      "Epoch 183/200\n",
      "1460/1460 [==============================] - 0s 3us/sample - loss: 0.5008\n",
      "Epoch 184/200\n",
      "1460/1460 [==============================] - 0s 3us/sample - loss: 0.5008\n",
      "Epoch 185/200\n",
      "1460/1460 [==============================] - 0s 2us/sample - loss: 0.5008\n",
      "Epoch 186/200\n",
      "1460/1460 [==============================] - 0s 3us/sample - loss: 0.5007\n",
      "Epoch 187/200\n",
      "1460/1460 [==============================] - 0s 3us/sample - loss: 0.5007\n",
      "Epoch 188/200\n"
     ]
    },
    {
     "name": "stdout",
     "output_type": "stream",
     "text": [
      "1460/1460 [==============================] - 0s 2us/sample - loss: 0.5006\n",
      "Epoch 189/200\n",
      "1460/1460 [==============================] - 0s 3us/sample - loss: 0.5006\n",
      "Epoch 190/200\n",
      "1460/1460 [==============================] - 0s 3us/sample - loss: 0.5006\n",
      "Epoch 191/200\n",
      "1460/1460 [==============================] - 0s 3us/sample - loss: 0.5005\n",
      "Epoch 192/200\n",
      "1460/1460 [==============================] - 0s 3us/sample - loss: 0.5005\n",
      "Epoch 193/200\n",
      "1460/1460 [==============================] - 0s 2us/sample - loss: 0.5005\n",
      "Epoch 194/200\n",
      "1460/1460 [==============================] - 0s 3us/sample - loss: 0.5004\n",
      "Epoch 195/200\n",
      "1460/1460 [==============================] - 0s 2us/sample - loss: 0.5004\n",
      "Epoch 196/200\n",
      "1460/1460 [==============================] - 0s 3us/sample - loss: 0.5004\n",
      "Epoch 197/200\n",
      "1460/1460 [==============================] - 0s 3us/sample - loss: 0.5003\n",
      "Epoch 198/200\n",
      "1460/1460 [==============================] - 0s 3us/sample - loss: 0.5003\n",
      "Epoch 199/200\n",
      "1460/1460 [==============================] - 0s 4us/sample - loss: 0.5002\n",
      "Epoch 200/200\n",
      "1460/1460 [==============================] - 0s 5us/sample - loss: 0.5002\n"
     ]
    }
   ],
   "source": [
    "BATCH_SIZE = X_train.shape[0] # computing the loss over the whole dataset\n",
    "EPOCHS = 200 # how many iterations over the whole dataset\n",
    "history = model.fit(X_train, y_train_scaled, epochs=EPOCHS, batch_size=BATCH_SIZE)"
   ]
  },
  {
   "cell_type": "markdown",
   "metadata": {},
   "source": [
    "[Plot data again](#Visualize-data)."
   ]
  },
  {
   "cell_type": "markdown",
   "metadata": {
    "slideshow": {
     "slide_type": "slide"
    }
   },
   "source": [
    "### Reset model\n",
    "\n",
    "Simplest way to reset all weights & biases is to re-execute the definition of `model`.\n",
    "\n",
    "We can then fit again."
   ]
  },
  {
   "cell_type": "markdown",
   "metadata": {
    "slideshow": {
     "slide_type": "slide"
    }
   },
   "source": [
    "Remarks:\n",
    "\n",
    "* Procedure starts from random value => need to consider random number generator seed!\n",
    "* Figure is in 1D, but 2 Dimensions when going down a mountain...\n",
    "* Our linear regression problem is in 2D, because 2 parameters to learn (`W` and `b`)\n",
    "* Benefits of \"compiling\" to be discussed in future notebook."
   ]
  },
  {
   "cell_type": "markdown",
   "metadata": {
    "slideshow": {
     "slide_type": "slide"
    }
   },
   "source": [
    "## Review learning curve"
   ]
  },
  {
   "cell_type": "code",
   "execution_count": 201,
   "metadata": {},
   "outputs": [
    {
     "data": {
      "image/png": "[encoded data removed]",
      "text/plain": [
       "<Figure size 576x360 with 1 Axes>"
      ]
     },
     "metadata": {},
     "output_type": "display_data"
    }
   ],
   "source": [
    "import pandas as pd\n",
    "\n",
    "pd.DataFrame(history.history).plot(figsize=(8, 5))\n",
    "plt.grid(True)\n",
    "#plt.gca().set_ylim(0, 1)\n",
    "plt.title('Model performance throughout training')\n",
    "plt.ylabel('Loss')\n",
    "plt.xlabel('epoch')\n",
    "plt.show()"
   ]
  },
  {
   "cell_type": "markdown",
   "metadata": {
    "slideshow": {
     "slide_type": "slide"
    }
   },
   "source": [
    "## Visualize model"
   ]
  },
  {
   "cell_type": "markdown",
   "metadata": {},
   "source": [
    "* Model is line defined by coefficient `W` and bias (a.k.a. intercept) `b`\n",
    "* Just need to plot 2 points and link them... \n",
    "    * x-axis: let's choose minimum and maximum of `X_train`\n",
    "    * y-axis: given by model's predictions"
   ]
  },
  {
   "cell_type": "code",
   "execution_count": 202,
   "metadata": {
    "slideshow": {
     "slide_type": "fragment"
    }
   },
   "outputs": [],
   "source": [
    "import numpy as np\n",
    "x_line = np.transpose([[X_train.min(), X_train.max()]])\n",
    "y_line = model.predict(x_line)\n",
    "y_line = yscaler.inverse_transform(y_line)"
   ]
  },
  {
   "cell_type": "code",
   "execution_count": 203,
   "metadata": {},
   "outputs": [
    {
     "name": "stdout",
     "output_type": "stream",
     "text": [
      "Point 1: [-2.2491201474608564, [119402.56] ]\n",
      "Point 2: [7.855574356961303, [576254.25] ]\n"
     ]
    }
   ],
   "source": [
    "print(\"Point 1: [\" + str(x_line[0][0]) + \", \" + str(y_line[0]) + \" ]\")\n",
    "print(\"Point 2: [\" + str(x_line[1][0]) + \", \" + str(y_line[1]) + \" ]\")"
   ]
  },
  {
   "cell_type": "code",
   "execution_count": 204,
   "metadata": {},
   "outputs": [],
   "source": [
    "y_predict = model.predict(X_train)\n",
    "y_predict = yscaler.inverse_transform(y_predict)"
   ]
  },
  {
   "cell_type": "code",
   "execution_count": 205,
   "metadata": {},
   "outputs": [
    {
     "data": {
      "text/plain": [
       "array([[205669.14],\n",
       "       [142473.6 ],\n",
       "       [214651.56],\n",
       "       ...,\n",
       "       [270627.12],\n",
       "       [131668.61],\n",
       "       [141743.98]], dtype=float32)"
      ]
     },
     "execution_count": 205,
     "metadata": {},
     "output_type": "execute_result"
    }
   ],
   "source": [
    "y_predict"
   ]
  },
  {
   "cell_type": "code",
   "execution_count": 206,
   "metadata": {
    "slideshow": {
     "slide_type": "slide"
    }
   },
   "outputs": [
    {
     "data": {
      "image/png": "[encoded data removed]",
      "text/plain": [
       "<Figure size 432x288 with 1 Axes>"
      ]
     },
     "metadata": {
      "needs_background": "dark"
     },
     "output_type": "display_data"
    }
   ],
   "source": [
    "%matplotlib inline\n",
    "plt.plot(X_train, y_train, \"b.\")\n",
    "plt.plot(x_line, y_line, \"r-\") # \"r-\" means we plot data points in red and link them with a line\n",
    "plt.plot(X_train, y_predict, \"g.\");\n",
    "plt.show()"
   ]
  },
  {
   "cell_type": "code",
   "execution_count": 207,
   "metadata": {},
   "outputs": [
    {
     "name": "stdout",
     "output_type": "stream",
     "text": [
      "MAE :  38302.260541523974\n"
     ]
    }
   ],
   "source": [
    "from sklearn import metrics\n",
    "#print('MSLE : ', metrics.mean_squared_log_error(y_train, y_predict))\n",
    "print('MAE : ', metrics.mean_absolute_error(y_train, y_predict)) "
   ]
  },
  {
   "cell_type": "markdown",
   "metadata": {
    "slideshow": {
     "slide_type": "slide"
    }
   },
   "source": [
    "Might want to increase learning rate?"
   ]
  },
  {
   "cell_type": "markdown",
   "metadata": {
    "slideshow": {
     "slide_type": "slide"
    }
   },
   "source": [
    "## Change learning rate"
   ]
  },
  {
   "cell_type": "markdown",
   "metadata": {
    "slideshow": {
     "slide_type": "slide"
    }
   },
   "source": [
    "### Learning rate too small\n",
    "\n",
    "The loss decrease is too slow\n",
    "\n",
    "![Gradient Descent with a small learning step - Aurélien Géron](figures/GD-small-learning-rate-Geron.png)"
   ]
  },
  {
   "cell_type": "markdown",
   "metadata": {
    "slideshow": {
     "slide_type": "notes"
    }
   },
   "source": [
    "(See Figure 4-4 in _Hands-on ML_ book by Aurélien Géron)"
   ]
  },
  {
   "cell_type": "markdown",
   "metadata": {
    "slideshow": {
     "slide_type": "slide"
    }
   },
   "source": [
    "### Learning rate too big\n",
    "\n",
    "Depending on the initialization, it could converge slowly, or it could diverge \n",
    "\n",
    "![Gradient Descent with a big learning step - Aurélien Géron](figures/GD-big-learning-rate-Geron.png)"
   ]
  },
  {
   "cell_type": "markdown",
   "metadata": {
    "slideshow": {
     "slide_type": "notes"
    }
   },
   "source": [
    "(See Figure 4-5 in _Hands-on ML_ book by Aurélien Géron)"
   ]
  }
 ],
 "metadata": {
  "kernel_info": {
   "name": "ml-workshops"
  },
  "kernelspec": {
   "display_name": "Python 3",
   "language": "python",
   "name": "python3"
  },
  "language_info": {
   "codemirror_mode": {
    "name": "ipython",
    "version": 3
   },
   "file_extension": ".py",
   "mimetype": "text/x-python",
   "name": "python",
   "nbconvert_exporter": "python",
   "pygments_lexer": "ipython3",
   "version": "3.7.3"
  },
  "livereveal": {
   "scroll": true
  },
  "nteract": {
   "version": "0.15.0"
  },
  "toc": {
   "base_numbering": 1,
   "nav_menu": {},
   "number_sections": false,
   "sideBar": true,
   "skip_h1_title": true,
   "title_cell": "Table of Contents",
   "title_sidebar": "Contents",
   "toc_cell": false,
   "toc_position": {
    "height": "calc(100% - 180px)",
    "left": "10px",
    "top": "150px",
    "width": "273.7px"
   },
   "toc_section_display": true,
   "toc_window_display": true
  }
 },
 "nbformat": 4,
 "nbformat_minor": 2
}
