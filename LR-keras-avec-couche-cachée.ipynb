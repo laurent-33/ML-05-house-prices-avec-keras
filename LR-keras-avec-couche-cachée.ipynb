{
 "cells": [
  {
   "cell_type": "markdown",
   "metadata": {
    "slideshow": {
     "slide_type": "slide"
    }
   },
   "source": [
    "# Linear Regression on House Prices (1D) with Keras\n",
    "\n",
    "All Rights Reserved © <a href=\"http://www.louisdorard.com\">Louis Dorard</a>\n",
    "\n",
    "<img src=\"http://s3.louisdorard.com.s3.amazonaws.com/DL_icon.png\">"
   ]
  },
  {
   "cell_type": "markdown",
   "metadata": {
    "slideshow": {
     "slide_type": "notes"
    }
   },
   "source": [
    "In this notebook we show how to perform linear regression on house prices data, using Keras."
   ]
  },
  {
   "cell_type": "markdown",
   "metadata": {
    "slideshow": {
     "slide_type": "slide"
    }
   },
   "source": [
    "## Define `X_train` and `y_train`\n",
    "\n",
    "Run [House Prices 1D](House-Prices-1D.ipynb) notebook to create `data`"
   ]
  },
  {
   "cell_type": "code",
   "execution_count": 1,
   "metadata": {},
   "outputs": [],
   "source": [
    "#%run House-Prices-1D.ipynb"
   ]
  },
  {
   "cell_type": "code",
   "execution_count": 3,
   "metadata": {},
   "outputs": [],
   "source": [
    "from pandas import read_csv\n",
    "data = read_csv('../04-house-prices/origin-trainfull.csv')"
   ]
  },
  {
   "cell_type": "markdown",
   "metadata": {
    "slideshow": {
     "slide_type": "slide"
    }
   },
   "source": [
    "Output is `SalePrice`"
   ]
  },
  {
   "cell_type": "code",
   "execution_count": 4,
   "metadata": {
    "slideshow": {
     "slide_type": "fragment"
    }
   },
   "outputs": [],
   "source": [
    "y_train = data.SalePrice.values.astype(float)"
   ]
  },
  {
   "cell_type": "markdown",
   "metadata": {
    "slideshow": {
     "slide_type": "fragment"
    }
   },
   "source": [
    "Use `Surface` as our only feature"
   ]
  },
  {
   "cell_type": "code",
   "execution_count": 34,
   "metadata": {},
   "outputs": [],
   "source": [
    "from numpy import transpose\n",
    "X_train = transpose([data.GrLivArea.values.astype(float)])"
   ]
  },
  {
   "cell_type": "code",
   "execution_count": 35,
   "metadata": {},
   "outputs": [
    {
     "data": {
      "text/plain": [
       "(1460, 1)"
      ]
     },
     "execution_count": 35,
     "metadata": {},
     "output_type": "execute_result"
    }
   ],
   "source": [
    "X_train.shape"
   ]
  },
  {
   "cell_type": "markdown",
   "metadata": {
    "slideshow": {
     "slide_type": "slide"
    }
   },
   "source": [
    "## Visualize data in 2D\n",
    "\n",
    "Initialize plotting lib"
   ]
  },
  {
   "cell_type": "code",
   "execution_count": 47,
   "metadata": {
    "slideshow": {
     "slide_type": "-"
    }
   },
   "outputs": [],
   "source": [
    "import matplotlib.pyplot as plt\n",
    "%matplotlib inline\n",
    "plt.style.use('dark_background')"
   ]
  },
  {
   "cell_type": "markdown",
   "metadata": {
    "slideshow": {
     "slide_type": "fragment"
    }
   },
   "source": [
    "The idea here is to find a line that \"fits\" the data."
   ]
  },
  {
   "cell_type": "markdown",
   "metadata": {
    "slideshow": {
     "slide_type": "slide"
    }
   },
   "source": [
    "## About Keras\n",
    "\n",
    "* High-level API: describe NN structure in simple and convenient way\n",
    "* Exists in TensorFlow, and outside (can use other libraries such as MXNet as numerical backend)"
   ]
  },
  {
   "cell_type": "markdown",
   "metadata": {
    "slideshow": {
     "slide_type": "slide"
    }
   },
   "source": [
    "## Model relationship between `x` and  `y`\n",
    "\n",
    "We're looking for `W` and `b` such that <!-- .element: class=\"fragment\" -->\n",
    "\n",
    "`x * W + b` is a good approximation of `y` <!-- .element: class=\"fragment\" -->\n",
    "\n",
    "for all `(x, y)` input-output pairs in training. <!-- .element: class=\"fragment\" -->"
   ]
  },
  {
   "cell_type": "markdown",
   "metadata": {
    "slideshow": {
     "slide_type": "slide"
    }
   },
   "source": [
    "Main model type in Keras is sequence of \"layers\", called `Sequential`. In our case:\n",
    "\n",
    "* 1 input layer (for `x`)\n",
    "* 1 hidden layer (x length)\n",
    "* 1 output layer (for `y`)"
   ]
  },
  {
   "cell_type": "code",
   "execution_count": 192,
   "metadata": {
    "slideshow": {
     "slide_type": "fragment"
    }
   },
   "outputs": [],
   "source": [
    "from tensorflow.keras.models import Sequential\n",
    "from tensorflow.keras.layers import Input\n",
    "from tensorflow.keras.layers import Dense, Activation\n",
    "model = Sequential()"
   ]
  },
  {
   "cell_type": "markdown",
   "metadata": {
    "slideshow": {
     "slide_type": "slide"
    }
   },
   "source": [
    "Alternative network creation:"
   ]
  },
  {
   "cell_type": "code",
   "execution_count": 193,
   "metadata": {},
   "outputs": [],
   "source": [
    "model = Sequential([\n",
    "    Input(shape=X_train.shape[1:]),\n",
    "    Dense(2, input_shape=(1,)),\n",
    "    Activation('relu'),\n",
    "    Dense(1)\n",
    "])"
   ]
  },
  {
   "cell_type": "markdown",
   "metadata": {
    "slideshow": {
     "slide_type": "slide"
    }
   },
   "source": [
    "## Choose \"loss\" to minimize\n",
    "\n",
    "* Error = difference between prediction `x * W + b` and true output `y`\n",
    "* Compute Mean Squared Error over whole dataset\n",
    "* MSE is a \"loss function\"; the smaller, the better\n",
    "* Loss value depends on `W`, `b`, and dataset\n",
    "    * => We want values of `W` and `b` that minimize loss on given training set."
   ]
  },
  {
   "cell_type": "code",
   "execution_count": 194,
   "metadata": {},
   "outputs": [],
   "source": [
    "loss = 'mse'"
   ]
  },
  {
   "cell_type": "markdown",
   "metadata": {
    "slideshow": {
     "slide_type": "slide"
    }
   },
   "source": [
    "## Set up optimizer and \"compile\" model\n",
    "\n",
    "Idea: iterative way to find lowest point of mountain, blindfolded?\n",
    "\n",
    "* “What is the direction of steepest descent under my feet?” => _gradient_\n",
    "* Follow gradient by a certain step size, called _learning step_ (or _learning rate_ ).\n",
    "    \n",
    "This is called _(Stochastic) Gradient Descent_."
   ]
  },
  {
   "cell_type": "markdown",
   "metadata": {
    "slideshow": {
     "slide_type": "slide"
    }
   },
   "source": [
    "![Gradient Descent - Aurélien Géron](figures/GD-Geron.png)"
   ]
  },
  {
   "cell_type": "markdown",
   "metadata": {
    "slideshow": {
     "slide_type": "notes"
    }
   },
   "source": [
    "(See Figure 4-3 in _Hands-on ML_ book by Aurélien Géron)"
   ]
  },
  {
   "cell_type": "markdown",
   "metadata": {
    "slideshow": {
     "slide_type": "slide"
    }
   },
   "source": [
    "In Keras, optimizer is specified when \"compiling\" model.\n",
    "\n",
    "(Last step to fix model training code!)"
   ]
  },
  {
   "cell_type": "code",
   "execution_count": 195,
   "metadata": {
    "slideshow": {
     "slide_type": "-"
    }
   },
   "outputs": [],
   "source": [
    "from tensorflow.keras.optimizers import SGD\n",
    "LEARNING_RATE = 0.01\n",
    "model.compile(loss=loss, optimizer=SGD(lr=LEARNING_RATE))"
   ]
  },
  {
   "cell_type": "markdown",
   "metadata": {
    "slideshow": {
     "slide_type": "slide"
    }
   },
   "source": [
    "Remarks:\n",
    "\n",
    "* Procedure starts from random value => need to consider random number generator seed!\n",
    "* Figure is in 1D, but 2 Dimensions when going down a mountain...\n",
    "* Our linear regression problem is in 2D, because 2 parameters to learn (`W` and `b`)\n",
    "* Benefits of \"compiling\" to be discussed in future notebook."
   ]
  },
  {
   "cell_type": "markdown",
   "metadata": {
    "slideshow": {
     "slide_type": "slide"
    }
   },
   "source": [
    "### Scale features\n",
    "\n",
    "\"Normalizing\" the data should help prevent values from \"exploding\":"
   ]
  },
  {
   "cell_type": "code",
   "execution_count": 196,
   "metadata": {},
   "outputs": [],
   "source": [
    "from sklearn.preprocessing import StandardScaler\n",
    "scaler = StandardScaler()\n",
    "scaler.fit(X_train)\n",
    "X_train = scaler.transform(X_train)"
   ]
  },
  {
   "cell_type": "markdown",
   "metadata": {
    "slideshow": {
     "slide_type": "slide"
    }
   },
   "source": [
    "## Fit model (i.e. run optimization)\n",
    "\n",
    "The model still hasn't \"seen\" any data yet...\n",
    "\n",
    "* With SGD we can choose the amount of data to be used to compute the loss function (`BATCH_SIZE`). This can be useful when the whole dataset doesn't fit in memory. We'll revisit this later!\n",
    "* We need to choose for how many iterations to run SGD (`EPOCHS`).\n",
    "* The `fit` method is a loop over epochs and batches!"
   ]
  },
  {
   "cell_type": "code",
   "execution_count": 197,
   "metadata": {},
   "outputs": [
    {
     "name": "stdout",
     "output_type": "stream",
     "text": [
      "Train on 1460 samples\n",
      "Epoch 1/200\n",
      "1460/1460 [==============================] - 0s 292us/sample - loss: 39039315968.0000\n",
      "Epoch 2/200\n",
      "1460/1460 [==============================] - 0s 3us/sample - loss: 61286641565696.0000\n",
      "Epoch 3/200\n",
      "1460/1460 [==============================] - 0s 2us/sample - loss: 173336828528253678108978461016064.0000\n",
      "Epoch 4/200\n",
      "1460/1460 [==============================] - 0s 2us/sample - loss: inf\n",
      "Epoch 5/200\n",
      "1460/1460 [==============================] - 0s 2us/sample - loss: nan\n",
      "Epoch 6/200\n",
      "1460/1460 [==============================] - 0s 2us/sample - loss: nan\n",
      "Epoch 7/200\n",
      "1460/1460 [==============================] - 0s 2us/sample - loss: nan\n",
      "Epoch 8/200\n",
      "1460/1460 [==============================] - 0s 2us/sample - loss: nan\n",
      "Epoch 9/200\n",
      "1460/1460 [==============================] - 0s 2us/sample - loss: nan\n",
      "Epoch 10/200\n",
      "1460/1460 [==============================] - 0s 2us/sample - loss: nan\n",
      "Epoch 11/200\n",
      "1460/1460 [==============================] - 0s 2us/sample - loss: nan\n",
      "Epoch 12/200\n",
      "1460/1460 [==============================] - 0s 2us/sample - loss: nan\n",
      "Epoch 13/200\n",
      "1460/1460 [==============================] - 0s 2us/sample - loss: nan\n",
      "Epoch 14/200\n",
      "1460/1460 [==============================] - 0s 2us/sample - loss: nan\n",
      "Epoch 15/200\n",
      "1460/1460 [==============================] - 0s 3us/sample - loss: nan\n",
      "Epoch 16/200\n",
      "1460/1460 [==============================] - 0s 2us/sample - loss: nan\n",
      "Epoch 17/200\n",
      "1460/1460 [==============================] - 0s 2us/sample - loss: nan\n",
      "Epoch 18/200\n",
      "1460/1460 [==============================] - 0s 2us/sample - loss: nan\n",
      "Epoch 19/200\n",
      "1460/1460 [==============================] - 0s 2us/sample - loss: nan\n",
      "Epoch 20/200\n",
      "1460/1460 [==============================] - 0s 2us/sample - loss: nan\n",
      "Epoch 21/200\n",
      "1460/1460 [==============================] - 0s 2us/sample - loss: nan\n",
      "Epoch 22/200\n",
      "1460/1460 [==============================] - 0s 2us/sample - loss: nan\n",
      "Epoch 23/200\n",
      "1460/1460 [==============================] - 0s 2us/sample - loss: nan\n",
      "Epoch 24/200\n",
      "1460/1460 [==============================] - 0s 2us/sample - loss: nan\n",
      "Epoch 25/200\n",
      "1460/1460 [==============================] - 0s 3us/sample - loss: nan\n",
      "Epoch 26/200\n",
      "1460/1460 [==============================] - 0s 2us/sample - loss: nan\n",
      "Epoch 27/200\n",
      "1460/1460 [==============================] - 0s 3us/sample - loss: nan\n",
      "Epoch 28/200\n",
      "1460/1460 [==============================] - 0s 3us/sample - loss: nan\n",
      "Epoch 29/200\n",
      "1460/1460 [==============================] - 0s 2us/sample - loss: nan\n",
      "Epoch 30/200\n",
      "1460/1460 [==============================] - 0s 2us/sample - loss: nan\n",
      "Epoch 31/200\n",
      "1460/1460 [==============================] - 0s 3us/sample - loss: nan\n",
      "Epoch 32/200\n",
      "1460/1460 [==============================] - 0s 2us/sample - loss: nan\n",
      "Epoch 33/200\n",
      "1460/1460 [==============================] - 0s 2us/sample - loss: nan\n",
      "Epoch 34/200\n",
      "1460/1460 [==============================] - 0s 1us/sample - loss: nan\n",
      "Epoch 35/200\n",
      "1460/1460 [==============================] - 0s 2us/sample - loss: nan\n",
      "Epoch 36/200\n",
      "1460/1460 [==============================] - 0s 3us/sample - loss: nan\n",
      "Epoch 37/200\n",
      "1460/1460 [==============================] - 0s 2us/sample - loss: nan\n",
      "Epoch 38/200\n",
      "1460/1460 [==============================] - 0s 2us/sample - loss: nan\n",
      "Epoch 39/200\n",
      "1460/1460 [==============================] - 0s 3us/sample - loss: nan\n",
      "Epoch 40/200\n",
      "1460/1460 [==============================] - 0s 3us/sample - loss: nan\n",
      "Epoch 41/200\n",
      "1460/1460 [==============================] - 0s 2us/sample - loss: nan\n",
      "Epoch 42/200\n",
      "1460/1460 [==============================] - 0s 2us/sample - loss: nan\n",
      "Epoch 43/200\n",
      "1460/1460 [==============================] - 0s 2us/sample - loss: nan\n",
      "Epoch 44/200\n",
      "1460/1460 [==============================] - 0s 3us/sample - loss: nan\n",
      "Epoch 45/200\n",
      "1460/1460 [==============================] - 0s 3us/sample - loss: nan\n",
      "Epoch 46/200\n",
      "1460/1460 [==============================] - 0s 3us/sample - loss: nan\n",
      "Epoch 47/200\n",
      "1460/1460 [==============================] - 0s 3us/sample - loss: nan\n",
      "Epoch 48/200\n",
      "1460/1460 [==============================] - 0s 2us/sample - loss: nan\n",
      "Epoch 49/200\n",
      "1460/1460 [==============================] - 0s 2us/sample - loss: nan\n",
      "Epoch 50/200\n",
      "1460/1460 [==============================] - 0s 2us/sample - loss: nan\n",
      "Epoch 51/200\n",
      "1460/1460 [==============================] - 0s 2us/sample - loss: nan\n",
      "Epoch 52/200\n",
      "1460/1460 [==============================] - 0s 2us/sample - loss: nan\n",
      "Epoch 53/200\n",
      "1460/1460 [==============================] - 0s 3us/sample - loss: nan\n",
      "Epoch 54/200\n",
      "1460/1460 [==============================] - 0s 3us/sample - loss: nan\n",
      "Epoch 55/200\n",
      "1460/1460 [==============================] - 0s 3us/sample - loss: nan\n",
      "Epoch 56/200\n",
      "1460/1460 [==============================] - 0s 2us/sample - loss: nan\n",
      "Epoch 57/200\n",
      "1460/1460 [==============================] - 0s 2us/sample - loss: nan\n",
      "Epoch 58/200\n",
      "1460/1460 [==============================] - 0s 2us/sample - loss: nan\n",
      "Epoch 59/200\n",
      "1460/1460 [==============================] - 0s 1us/sample - loss: nan\n",
      "Epoch 60/200\n",
      "1460/1460 [==============================] - 0s 2us/sample - loss: nan\n",
      "Epoch 61/200\n",
      "1460/1460 [==============================] - 0s 1us/sample - loss: nan\n",
      "Epoch 62/200\n",
      "1460/1460 [==============================] - 0s 1us/sample - loss: nan\n",
      "Epoch 63/200\n",
      "1460/1460 [==============================] - 0s 2us/sample - loss: nan\n",
      "Epoch 64/200\n",
      "1460/1460 [==============================] - 0s 2us/sample - loss: nan\n",
      "Epoch 65/200\n",
      "1460/1460 [==============================] - 0s 2us/sample - loss: nan\n",
      "Epoch 66/200\n",
      "1460/1460 [==============================] - 0s 2us/sample - loss: nan\n",
      "Epoch 67/200\n",
      "1460/1460 [==============================] - 0s 2us/sample - loss: nan\n",
      "Epoch 68/200\n",
      "1460/1460 [==============================] - 0s 3us/sample - loss: nan\n",
      "Epoch 69/200\n",
      "1460/1460 [==============================] - 0s 1us/sample - loss: nan\n",
      "Epoch 70/200\n",
      "1460/1460 [==============================] - 0s 2us/sample - loss: nan\n",
      "Epoch 71/200\n",
      "1460/1460 [==============================] - 0s 1us/sample - loss: nan\n",
      "Epoch 72/200\n",
      "1460/1460 [==============================] - 0s 1us/sample - loss: nan\n",
      "Epoch 73/200\n",
      "1460/1460 [==============================] - 0s 2us/sample - loss: nan\n",
      "Epoch 74/200\n",
      "1460/1460 [==============================] - 0s 2us/sample - loss: nan\n",
      "Epoch 75/200\n",
      "1460/1460 [==============================] - 0s 2us/sample - loss: nan\n",
      "Epoch 76/200\n",
      "1460/1460 [==============================] - 0s 3us/sample - loss: nan\n",
      "Epoch 77/200\n",
      "1460/1460 [==============================] - 0s 2us/sample - loss: nan\n",
      "Epoch 78/200\n",
      "1460/1460 [==============================] - 0s 3us/sample - loss: nan\n",
      "Epoch 79/200\n",
      "1460/1460 [==============================] - 0s 2us/sample - loss: nan\n",
      "Epoch 80/200\n",
      "1460/1460 [==============================] - 0s 2us/sample - loss: nan\n",
      "Epoch 81/200\n",
      "1460/1460 [==============================] - 0s 2us/sample - loss: nan\n",
      "Epoch 82/200\n",
      "1460/1460 [==============================] - 0s 2us/sample - loss: nan\n",
      "Epoch 83/200\n",
      "1460/1460 [==============================] - 0s 2us/sample - loss: nan\n",
      "Epoch 84/200\n",
      "1460/1460 [==============================] - 0s 2us/sample - loss: nan\n",
      "Epoch 85/200\n",
      "1460/1460 [==============================] - 0s 2us/sample - loss: nan\n",
      "Epoch 86/200\n",
      "1460/1460 [==============================] - 0s 2us/sample - loss: nan\n",
      "Epoch 87/200\n",
      "1460/1460 [==============================] - 0s 2us/sample - loss: nan\n",
      "Epoch 88/200\n",
      "1460/1460 [==============================] - 0s 2us/sample - loss: nan\n",
      "Epoch 89/200\n",
      "1460/1460 [==============================] - 0s 2us/sample - loss: nan\n",
      "Epoch 90/200\n",
      "1460/1460 [==============================] - 0s 2us/sample - loss: nan\n",
      "Epoch 91/200\n",
      "1460/1460 [==============================] - 0s 2us/sample - loss: nan\n",
      "Epoch 92/200\n",
      "1460/1460 [==============================] - 0s 2us/sample - loss: nan\n",
      "Epoch 93/200\n",
      "1460/1460 [==============================] - 0s 2us/sample - loss: nan\n",
      "Epoch 94/200\n",
      "1460/1460 [==============================] - 0s 1us/sample - loss: nan\n",
      "Epoch 95/200\n",
      "1460/1460 [==============================] - 0s 1us/sample - loss: nan\n",
      "Epoch 96/200\n",
      "1460/1460 [==============================] - 0s 2us/sample - loss: nan\n",
      "Epoch 97/200\n",
      "1460/1460 [==============================] - 0s 1us/sample - loss: nan\n"
     ]
    },
    {
     "name": "stdout",
     "output_type": "stream",
     "text": [
      "Epoch 98/200\n",
      "1460/1460 [==============================] - 0s 1us/sample - loss: nan\n",
      "Epoch 99/200\n",
      "1460/1460 [==============================] - 0s 2us/sample - loss: nan\n",
      "Epoch 100/200\n",
      "1460/1460 [==============================] - 0s 2us/sample - loss: nan\n",
      "Epoch 101/200\n",
      "1460/1460 [==============================] - 0s 2us/sample - loss: nan\n",
      "Epoch 102/200\n",
      "1460/1460 [==============================] - 0s 2us/sample - loss: nan\n",
      "Epoch 103/200\n",
      "1460/1460 [==============================] - 0s 2us/sample - loss: nan\n",
      "Epoch 104/200\n",
      "1460/1460 [==============================] - 0s 2us/sample - loss: nan\n",
      "Epoch 105/200\n",
      "1460/1460 [==============================] - 0s 2us/sample - loss: nan\n",
      "Epoch 106/200\n",
      "1460/1460 [==============================] - 0s 2us/sample - loss: nan\n",
      "Epoch 107/200\n",
      "1460/1460 [==============================] - 0s 2us/sample - loss: nan\n",
      "Epoch 108/200\n",
      "1460/1460 [==============================] - 0s 2us/sample - loss: nan\n",
      "Epoch 109/200\n",
      "1460/1460 [==============================] - 0s 2us/sample - loss: nan\n",
      "Epoch 110/200\n",
      "1460/1460 [==============================] - 0s 2us/sample - loss: nan\n",
      "Epoch 111/200\n",
      "1460/1460 [==============================] - 0s 1us/sample - loss: nan\n",
      "Epoch 112/200\n",
      "1460/1460 [==============================] - 0s 2us/sample - loss: nan\n",
      "Epoch 113/200\n",
      "1460/1460 [==============================] - 0s 1us/sample - loss: nan\n",
      "Epoch 114/200\n",
      "1460/1460 [==============================] - 0s 2us/sample - loss: nan\n",
      "Epoch 115/200\n",
      "1460/1460 [==============================] - 0s 2us/sample - loss: nan\n",
      "Epoch 116/200\n",
      "1460/1460 [==============================] - 0s 2us/sample - loss: nan\n",
      "Epoch 117/200\n",
      "1460/1460 [==============================] - 0s 2us/sample - loss: nan\n",
      "Epoch 118/200\n",
      "1460/1460 [==============================] - 0s 1us/sample - loss: nan\n",
      "Epoch 119/200\n",
      "1460/1460 [==============================] - 0s 2us/sample - loss: nan\n",
      "Epoch 120/200\n",
      "1460/1460 [==============================] - 0s 2us/sample - loss: nan\n",
      "Epoch 121/200\n",
      "1460/1460 [==============================] - 0s 2us/sample - loss: nan\n",
      "Epoch 122/200\n",
      "1460/1460 [==============================] - 0s 2us/sample - loss: nan\n",
      "Epoch 123/200\n",
      "1460/1460 [==============================] - 0s 2us/sample - loss: nan\n",
      "Epoch 124/200\n",
      "1460/1460 [==============================] - 0s 2us/sample - loss: nan\n",
      "Epoch 125/200\n",
      "1460/1460 [==============================] - 0s 2us/sample - loss: nan\n",
      "Epoch 126/200\n",
      "1460/1460 [==============================] - 0s 2us/sample - loss: nan\n",
      "Epoch 127/200\n",
      "1460/1460 [==============================] - 0s 2us/sample - loss: nan\n",
      "Epoch 128/200\n",
      "1460/1460 [==============================] - 0s 2us/sample - loss: nan\n",
      "Epoch 129/200\n",
      "1460/1460 [==============================] - 0s 2us/sample - loss: nan\n",
      "Epoch 130/200\n",
      "1460/1460 [==============================] - 0s 2us/sample - loss: nan\n",
      "Epoch 131/200\n",
      "1460/1460 [==============================] - 0s 2us/sample - loss: nan\n",
      "Epoch 132/200\n",
      "1460/1460 [==============================] - 0s 2us/sample - loss: nan\n",
      "Epoch 133/200\n",
      "1460/1460 [==============================] - 0s 2us/sample - loss: nan\n",
      "Epoch 134/200\n",
      "1460/1460 [==============================] - 0s 2us/sample - loss: nan\n",
      "Epoch 135/200\n",
      "1460/1460 [==============================] - 0s 2us/sample - loss: nan\n",
      "Epoch 136/200\n",
      "1460/1460 [==============================] - 0s 2us/sample - loss: nan\n",
      "Epoch 137/200\n",
      "1460/1460 [==============================] - 0s 2us/sample - loss: nan\n",
      "Epoch 138/200\n",
      "1460/1460 [==============================] - 0s 3us/sample - loss: nan\n",
      "Epoch 139/200\n",
      "1460/1460 [==============================] - 0s 2us/sample - loss: nan\n",
      "Epoch 140/200\n",
      "1460/1460 [==============================] - 0s 2us/sample - loss: nan\n",
      "Epoch 141/200\n",
      "1460/1460 [==============================] - 0s 2us/sample - loss: nan\n",
      "Epoch 142/200\n",
      "1460/1460 [==============================] - 0s 2us/sample - loss: nan\n",
      "Epoch 143/200\n",
      "1460/1460 [==============================] - 0s 2us/sample - loss: nan\n",
      "Epoch 144/200\n",
      "1460/1460 [==============================] - 0s 2us/sample - loss: nan\n",
      "Epoch 145/200\n",
      "1460/1460 [==============================] - 0s 2us/sample - loss: nan\n",
      "Epoch 146/200\n",
      "1460/1460 [==============================] - 0s 2us/sample - loss: nan\n",
      "Epoch 147/200\n",
      "1460/1460 [==============================] - 0s 2us/sample - loss: nan\n",
      "Epoch 148/200\n",
      "1460/1460 [==============================] - 0s 2us/sample - loss: nan\n",
      "Epoch 149/200\n",
      "1460/1460 [==============================] - 0s 2us/sample - loss: nan\n",
      "Epoch 150/200\n",
      "1460/1460 [==============================] - 0s 1us/sample - loss: nan\n",
      "Epoch 151/200\n",
      "1460/1460 [==============================] - 0s 2us/sample - loss: nan\n",
      "Epoch 152/200\n",
      "1460/1460 [==============================] - 0s 1us/sample - loss: nan\n",
      "Epoch 153/200\n",
      "1460/1460 [==============================] - 0s 3us/sample - loss: nan\n",
      "Epoch 154/200\n",
      "1460/1460 [==============================] - 0s 2us/sample - loss: nan\n",
      "Epoch 155/200\n",
      "1460/1460 [==============================] - 0s 2us/sample - loss: nan\n",
      "Epoch 156/200\n",
      "1460/1460 [==============================] - 0s 2us/sample - loss: nan\n",
      "Epoch 157/200\n",
      "1460/1460 [==============================] - 0s 2us/sample - loss: nan\n",
      "Epoch 158/200\n",
      "1460/1460 [==============================] - 0s 2us/sample - loss: nan\n",
      "Epoch 159/200\n",
      "1460/1460 [==============================] - 0s 2us/sample - loss: nan\n",
      "Epoch 160/200\n",
      "1460/1460 [==============================] - 0s 2us/sample - loss: nan\n",
      "Epoch 161/200\n",
      "1460/1460 [==============================] - 0s 2us/sample - loss: nan\n",
      "Epoch 162/200\n",
      "1460/1460 [==============================] - 0s 2us/sample - loss: nan\n",
      "Epoch 163/200\n",
      "1460/1460 [==============================] - 0s 2us/sample - loss: nan\n",
      "Epoch 164/200\n",
      "1460/1460 [==============================] - 0s 2us/sample - loss: nan\n",
      "Epoch 165/200\n",
      "1460/1460 [==============================] - 0s 2us/sample - loss: nan\n",
      "Epoch 166/200\n",
      "1460/1460 [==============================] - 0s 2us/sample - loss: nan\n",
      "Epoch 167/200\n",
      "1460/1460 [==============================] - 0s 2us/sample - loss: nan\n",
      "Epoch 168/200\n",
      "1460/1460 [==============================] - 0s 2us/sample - loss: nan\n",
      "Epoch 169/200\n",
      "1460/1460 [==============================] - 0s 3us/sample - loss: nan\n",
      "Epoch 170/200\n",
      "1460/1460 [==============================] - 0s 2us/sample - loss: nan\n",
      "Epoch 171/200\n",
      "1460/1460 [==============================] - 0s 2us/sample - loss: nan\n",
      "Epoch 172/200\n",
      "1460/1460 [==============================] - 0s 3us/sample - loss: nan\n",
      "Epoch 173/200\n",
      "1460/1460 [==============================] - 0s 3us/sample - loss: nan\n",
      "Epoch 174/200\n",
      "1460/1460 [==============================] - 0s 2us/sample - loss: nan\n",
      "Epoch 175/200\n",
      "1460/1460 [==============================] - 0s 2us/sample - loss: nan\n",
      "Epoch 176/200\n",
      "1460/1460 [==============================] - 0s 2us/sample - loss: nan\n",
      "Epoch 177/200\n",
      "1460/1460 [==============================] - 0s 2us/sample - loss: nan\n",
      "Epoch 178/200\n",
      "1460/1460 [==============================] - 0s 2us/sample - loss: nan\n",
      "Epoch 179/200\n",
      "1460/1460 [==============================] - 0s 2us/sample - loss: nan\n",
      "Epoch 180/200\n",
      "1460/1460 [==============================] - 0s 2us/sample - loss: nan\n",
      "Epoch 181/200\n",
      "1460/1460 [==============================] - 0s 2us/sample - loss: nan\n",
      "Epoch 182/200\n",
      "1460/1460 [==============================] - 0s 2us/sample - loss: nan\n",
      "Epoch 183/200\n",
      "1460/1460 [==============================] - 0s 2us/sample - loss: nan\n",
      "Epoch 184/200\n",
      "1460/1460 [==============================] - 0s 2us/sample - loss: nan\n",
      "Epoch 185/200\n",
      "1460/1460 [==============================] - 0s 2us/sample - loss: nan\n",
      "Epoch 186/200\n",
      "1460/1460 [==============================] - 0s 3us/sample - loss: nan\n",
      "Epoch 187/200\n",
      "1460/1460 [==============================] - 0s 2us/sample - loss: nan\n",
      "Epoch 188/200\n",
      "1460/1460 [==============================] - 0s 2us/sample - loss: nan\n",
      "Epoch 189/200\n",
      "1460/1460 [==============================] - 0s 2us/sample - loss: nan\n",
      "Epoch 190/200\n",
      "1460/1460 [==============================] - 0s 2us/sample - loss: nan\n",
      "Epoch 191/200\n",
      "1460/1460 [==============================] - 0s 2us/sample - loss: nan\n",
      "Epoch 192/200\n",
      "1460/1460 [==============================] - 0s 2us/sample - loss: nan\n",
      "Epoch 193/200\n",
      "1460/1460 [==============================] - 0s 2us/sample - loss: nan\n",
      "Epoch 194/200\n",
      "1460/1460 [==============================] - 0s 2us/sample - loss: nan\n"
     ]
    },
    {
     "name": "stdout",
     "output_type": "stream",
     "text": [
      "Epoch 195/200\n",
      "1460/1460 [==============================] - 0s 2us/sample - loss: nan\n",
      "Epoch 196/200\n",
      "1460/1460 [==============================] - 0s 2us/sample - loss: nan\n",
      "Epoch 197/200\n",
      "1460/1460 [==============================] - 0s 2us/sample - loss: nan\n",
      "Epoch 198/200\n",
      "1460/1460 [==============================] - 0s 2us/sample - loss: nan\n",
      "Epoch 199/200\n",
      "1460/1460 [==============================] - 0s 2us/sample - loss: nan\n",
      "Epoch 200/200\n",
      "1460/1460 [==============================] - 0s 2us/sample - loss: nan\n"
     ]
    }
   ],
   "source": [
    "BATCH_SIZE = X_train.shape[0] # computing the loss over the whole dataset\n",
    "EPOCHS = 200 # how many iterations over the whole dataset\n",
    "history = model.fit(X_train, y_train, epochs=EPOCHS, batch_size=BATCH_SIZE)"
   ]
  },
  {
   "cell_type": "markdown",
   "metadata": {},
   "source": [
    "[Plot data again](#Visualize-data)."
   ]
  },
  {
   "cell_type": "markdown",
   "metadata": {
    "slideshow": {
     "slide_type": "slide"
    }
   },
   "source": [
    "### Reset model\n",
    "\n",
    "Simplest way to reset all weights & biases is to re-execute the definition of `model`.\n",
    "\n",
    "We can then fit again."
   ]
  },
  {
   "cell_type": "markdown",
   "metadata": {
    "slideshow": {
     "slide_type": "slide"
    }
   },
   "source": [
    "Remarks:\n",
    "\n",
    "* Procedure starts from random value => need to consider random number generator seed!\n",
    "* Figure is in 1D, but 2 Dimensions when going down a mountain...\n",
    "* Our linear regression problem is in 2D, because 2 parameters to learn (`W` and `b`)\n",
    "* Benefits of \"compiling\" to be discussed in future notebook."
   ]
  },
  {
   "cell_type": "markdown",
   "metadata": {
    "slideshow": {
     "slide_type": "slide"
    }
   },
   "source": [
    "## Review learning curve"
   ]
  },
  {
   "cell_type": "code",
   "execution_count": 189,
   "metadata": {},
   "outputs": [
    {
     "data": {
      "image/png": "[encoded data removed]",
      "text/plain": [
       "<Figure size 576x360 with 1 Axes>"
      ]
     },
     "metadata": {
      "needs_background": "dark"
     },
     "output_type": "display_data"
    }
   ],
   "source": [
    "import pandas as pd\n",
    "\n",
    "pd.DataFrame(history.history).plot(figsize=(8, 5))\n",
    "plt.grid(True)\n",
    "#plt.gca().set_ylim(0, 1)\n",
    "plt.title('Model performance throughout training')\n",
    "plt.ylabel('Loss')\n",
    "plt.xlabel('epoch')\n",
    "plt.show()"
   ]
  },
  {
   "cell_type": "markdown",
   "metadata": {
    "slideshow": {
     "slide_type": "slide"
    }
   },
   "source": [
    "## Visualize model"
   ]
  },
  {
   "cell_type": "markdown",
   "metadata": {},
   "source": [
    "* Model is line defined by coefficient `W` and bias (a.k.a. intercept) `b`\n",
    "* Just need to plot 2 points and link them... \n",
    "    * x-axis: let's choose minimum and maximum of `X_train`\n",
    "    * y-axis: given by model's predictions"
   ]
  },
  {
   "cell_type": "code",
   "execution_count": 190,
   "metadata": {
    "slideshow": {
     "slide_type": "fragment"
    }
   },
   "outputs": [],
   "source": [
    "import numpy as np\n",
    "x_line = np.transpose([[X_train.min(), X_train.max()]])\n",
    "y_line = model.predict(x_line)"
   ]
  },
  {
   "cell_type": "code",
   "execution_count": 132,
   "metadata": {},
   "outputs": [
    {
     "name": "stdout",
     "output_type": "stream",
     "text": [
      "Point 1: [-2.249120147460857, [54350.57] ]\n",
      "Point 2: [7.855574356961304, [622998.56] ]\n"
     ]
    }
   ],
   "source": [
    "print(\"Point 1: [\" + str(x_line[0][0]) + \", \" + str(y_line[0]) + \" ]\")\n",
    "print(\"Point 2: [\" + str(x_line[1][0]) + \", \" + str(y_line[1]) + \" ]\")"
   ]
  },
  {
   "cell_type": "code",
   "execution_count": 133,
   "metadata": {},
   "outputs": [],
   "source": [
    "y_predict = model.predict(X_train)"
   ]
  },
  {
   "cell_type": "code",
   "execution_count": 134,
   "metadata": {
    "slideshow": {
     "slide_type": "slide"
    }
   },
   "outputs": [
    {
     "data": {
      "image/png": "[encoded data removed]",
      "text/plain": [
       "<Figure size 432x288 with 1 Axes>"
      ]
     },
     "metadata": {
      "needs_background": "dark"
     },
     "output_type": "display_data"
    }
   ],
   "source": [
    "%matplotlib inline\n",
    "plt.plot(X_train, y_train, \"b.\")\n",
    "plt.plot(x_line, y_line, \"r-\") # \"r-\" means we plot data points in red and link them with a line\n",
    "plt.plot(X_train, y_predict, \"g.\");\n",
    "plt.show()"
   ]
  },
  {
   "cell_type": "code",
   "execution_count": 135,
   "metadata": {},
   "outputs": [
    {
     "data": {
      "text/plain": [
       "1.1369121118807209e+20"
      ]
     },
     "execution_count": 135,
     "metadata": {},
     "output_type": "execute_result"
    }
   ],
   "source": [
    "model.evaluate(y_predict, y_train, verbose=0)"
   ]
  },
  {
   "cell_type": "code",
   "execution_count": 138,
   "metadata": {},
   "outputs": [
    {
     "name": "stdout",
     "output_type": "stream",
     "text": [
      "MSLE :  0.07594154826290234\n",
      "MAE :  37638.730174443495\n"
     ]
    }
   ],
   "source": [
    "from sklearn import metrics\n",
    "print('MSLE : ', metrics.mean_squared_log_error(y_train, y_predict))\n",
    "print('MAE : ', metrics.mean_absolute_error(y_train, y_predict)) "
   ]
  },
  {
   "cell_type": "markdown",
   "metadata": {
    "slideshow": {
     "slide_type": "slide"
    }
   },
   "source": [
    "Might want to increase learning rate?"
   ]
  },
  {
   "cell_type": "markdown",
   "metadata": {
    "slideshow": {
     "slide_type": "slide"
    }
   },
   "source": [
    "## Change learning rate"
   ]
  },
  {
   "cell_type": "markdown",
   "metadata": {
    "slideshow": {
     "slide_type": "slide"
    }
   },
   "source": [
    "### Learning rate too small\n",
    "\n",
    "The loss decrease is too slow\n",
    "\n",
    "![Gradient Descent with a small learning step - Aurélien Géron](figures/GD-small-learning-rate-Geron.png)"
   ]
  },
  {
   "cell_type": "markdown",
   "metadata": {
    "slideshow": {
     "slide_type": "notes"
    }
   },
   "source": [
    "(See Figure 4-4 in _Hands-on ML_ book by Aurélien Géron)"
   ]
  },
  {
   "cell_type": "markdown",
   "metadata": {
    "slideshow": {
     "slide_type": "slide"
    }
   },
   "source": [
    "### Learning rate too big\n",
    "\n",
    "Depending on the initialization, it could converge slowly, or it could diverge \n",
    "\n",
    "![Gradient Descent with a big learning step - Aurélien Géron](figures/GD-big-learning-rate-Geron.png)"
   ]
  },
  {
   "cell_type": "markdown",
   "metadata": {
    "slideshow": {
     "slide_type": "notes"
    }
   },
   "source": [
    "(See Figure 4-5 in _Hands-on ML_ book by Aurélien Géron)"
   ]
  }
 ],
 "metadata": {
  "kernel_info": {
   "name": "ml-workshops"
  },
  "kernelspec": {
   "display_name": "Python 3",
   "language": "python",
   "name": "python3"
  },
  "language_info": {
   "codemirror_mode": {
    "name": "ipython",
    "version": 3
   },
   "file_extension": ".py",
   "mimetype": "text/x-python",
   "name": "python",
   "nbconvert_exporter": "python",
   "pygments_lexer": "ipython3",
   "version": "3.7.3"
  },
  "livereveal": {
   "scroll": true
  },
  "nteract": {
   "version": "0.15.0"
  },
  "toc": {
   "base_numbering": 1,
   "nav_menu": {},
   "number_sections": false,
   "sideBar": true,
   "skip_h1_title": true,
   "title_cell": "Table of Contents",
   "title_sidebar": "Contents",
   "toc_cell": false,
   "toc_position": {
    "height": "calc(100% - 180px)",
    "left": "10px",
    "top": "150px",
    "width": "273.6956481933594px"
   },
   "toc_section_display": true,
   "toc_window_display": true
  }
 },
 "nbformat": 4,
 "nbformat_minor": 2
}
